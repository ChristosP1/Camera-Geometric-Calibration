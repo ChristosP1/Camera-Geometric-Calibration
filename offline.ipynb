{
 "cells": [
  {
   "cell_type": "markdown",
   "metadata": {},
   "source": [
    "# Camera geometric calibration\n",
    "Camera calibration is used to obtain the camera parameters:"
   ]
  },
  {
   "cell_type": "markdown",
   "metadata": {},
   "source": [
    "## Offline"
   ]
  },
  {
   "cell_type": "code",
   "execution_count": 1,
   "metadata": {},
   "outputs": [],
   "source": [
    "import cv2 as cv\n",
    "import numpy as np\n",
    "import matplotlib.pyplot as plt\n",
    "import os \n",
    "import glob  "
   ]
  },
  {
   "cell_type": "markdown",
   "metadata": {},
   "source": [
    "The function **click_event** is called every time the user clicks on the image.\n",
    "- **event**: stores the kind of interaction with the window\n",
    "- **x, y**: the coordinates of the click\n",
    "- **flags, params**: additional information\n",
    "\n",
    "The **\"if event == cv2.EVENT_LBUTTONDOWN\"** statement checks whether the click is a left click. Then a green circle is added at the coordinates of the click.\n",
    "\n",
    "If we add 4 points (circles) then the **interpolation** process happens."
   ]
  },
  {
   "cell_type": "code",
   "execution_count": 2,
   "metadata": {},
   "outputs": [],
   "source": [
    "def manual_corners(img):\n",
    "    global points, original_img\n",
    "\n",
    "    def redraw_points():\n",
    "            global img, points, original_img\n",
    "            font = cv.FONT_HERSHEY_SIMPLEX\n",
    "            img = original_img.copy()  # Reset the image to the original without any drawings\n",
    "            for pt in points:\n",
    "                cv.circle(img, pt, 3, (0, 255, 0), -1)\n",
    "                cv.putText(img, str(pt[0]) + ',' + str(pt[1]), pt, font, 1, (255, 0, 0), 2)\n",
    "            cv.imshow('Image', img)\n",
    "\n",
    "    def select_corners(event, x, y, flags, params):\n",
    "            global points, img\n",
    "            if event == cv.EVENT_LBUTTONDOWN and len(points) < 4:\n",
    "                points.append((x, y))\n",
    "                redraw_points()\n",
    "\n",
    "            elif event == cv.EVENT_RBUTTONDOWN and len(points) > 0:\n",
    "                points = points[:-1]\n",
    "                redraw_points()\n",
    "\n",
    "\n",
    "    # Load chessboard image\n",
    "    original_img = img.copy()  # Keep an original copy of the image\n",
    "    cv.imshow('Image', img)\n",
    "\n",
    "    points = []\n",
    "    cv.setMouseCallback('Image', select_corners)\n",
    "\n",
    "    cv.waitKey(0)\n",
    "    cv.destroyAllWindows()\n",
    "\n",
    "    points = np.array(points)\n",
    "    return points"
   ]
  },
  {
   "cell_type": "code",
   "execution_count": 28,
   "metadata": {},
   "outputs": [
    {
     "data": {
      "text/plain": [
       "array([[ 234,  100],\n",
       "       [ 883,   99],\n",
       "       [  93,  660],\n",
       "       [1025,  661]])"
      ]
     },
     "execution_count": 28,
     "metadata": {},
     "output_type": "execute_result"
    }
   ],
   "source": [
    "points"
   ]
  },
  {
   "cell_type": "code",
   "execution_count": 3,
   "metadata": {},
   "outputs": [],
   "source": [
    "def sort_corners(corners):\n",
    "    # Sort the corners: [top-left, top-right, bottom-right, bottom-left]\n",
    "    # (Assuming corners is a numpy array of shape (4, 2))\n",
    "    top = sorted(corners[:2], key=lambda x: x[0])\n",
    "    bottom = sorted(corners[2:], key=lambda x: x[0], reverse=True)\n",
    "    return np.array(top + bottom, dtype='float32')\n",
    "\n",
    "def interpolate_chessboard_points(outer_corners, pattern_size, square_size):\n",
    "    # Sort corners\n",
    "    sorted_corners = sort_corners(outer_corners)\n",
    "\n",
    "    # Destination points - a perfect rectangle\n",
    "    dest_corners = np.array([[0, 0],\n",
    "                             [square_size * (pattern_size[0] - 1), 0],\n",
    "                             [square_size * (pattern_size[0] - 1), square_size * (pattern_size[1] - 1)],\n",
    "                             [0, square_size * (pattern_size[1] - 1)]], dtype='float32')\n",
    "\n",
    "    # Perspective transformation matrix\n",
    "    matrix = cv.getPerspectiveTransform(sorted_corners, dest_corners)\n",
    "\n",
    "    # Interpolate points\n",
    "    interpolated_points = []\n",
    "    for i in range(pattern_size[1]):\n",
    "        for j in range(pattern_size[0]):\n",
    "            point = np.array([j * square_size, i * square_size, 1], dtype='float32')\n",
    "            point = matrix.dot(point)\n",
    "            point /= point[2]  # Normalize\n",
    "            interpolated_points.append((int(point[0])*-1, int(point[1])*-1))\n",
    "\n",
    "    # Draw the interpolated points on the image\n",
    "    for point in interpolated_points:\n",
    "        cv.circle(img, point, 5, (0, 255, 0), -1)\n",
    "\n",
    "    # Display the image with points\n",
    "    cv.imshow('Interpolated Points', img)\n",
    "    cv.waitKey(0)\n",
    "    cv.destroyAllWindows()\n",
    "\n",
    "    return np.array(interpolated_points, dtype='float32')"
   ]
  },
  {
   "cell_type": "code",
   "execution_count": 17,
   "metadata": {},
   "outputs": [],
   "source": [
    "def calibrate(showPics=True):\n",
    "    \n",
    "    # Find image file paths\n",
    "    imgPathList = glob.glob(os.path.join('images','*.jpg'))\n",
    "    print(imgPathList)\n",
    "    \n",
    "    # Dimensions of the chessboard\n",
    "    chessboard_dim = (9,6)\n",
    "    square_size = 30  # Assuming each square is 30x30 units\n",
    "    \n",
    "    # Termination criteria\n",
    "    termCriteria = (cv.TERM_CRITERIA_EPS + cv.TERM_CRITERIA_MAX_ITER,30,0.001)\n",
    "    \n",
    "    # Prepare object points, like (0,0,0), (1,0,0), (2,0,0) ....,(6,5,0)\n",
    "    obj_3D = np.zeros((chessboard_dim[0]*chessboard_dim[1],3), np.float32)\n",
    "    obj_3D[:,:2] = np.mgrid[0:chessboard_dim[0], 0:chessboard_dim[1]].T.reshape(-1,2)\n",
    "    obj_3D *= square_size\n",
    "    \n",
    "    # Empty lists to store our points as we calibrate the camera\n",
    "    obj_points_3D = [] # 3d points in real world space\n",
    "    img_points_2D = [] # 2d points in image plane\n",
    "    \n",
    "    \n",
    "    # Find corners \n",
    "    print()\n",
    "    for curImgPath in imgPathList:\n",
    "        print('Current path:')\n",
    "        print(curImgPath)\n",
    "        \n",
    "        # Read the image\n",
    "        imgBGR = cv.imread(curImgPath)  \n",
    "        \n",
    "        # Half the size of the image\n",
    "        imgScale = 0.5\n",
    "        newX,newY = imgBGR.shape[1]*imgScale, imgBGR.shape[0]*imgScale\n",
    "        imgBGR = cv.resize(imgBGR,(int(newX),int(newY)))\n",
    "        \n",
    "        imgGray = cv.cvtColor(imgBGR, cv.COLOR_BGR2GRAY) # Turn to greyscale\n",
    "        \n",
    "        # Try to find corners with the cv function 'findChessboardCorners'\n",
    "        cornersFound, corners = cv.findChessboardCorners(imgGray, chessboard_dim, None)\n",
    "\n",
    "        if cornersFound == True:\n",
    "            print('Found with the CV function')\n",
    "            # Append them to the list of our world points\n",
    "            obj_points_3D.append(obj_3D)\n",
    "            cornersRefined = cv.cornerSubPix(imgGray, corners, (3,3), (-1,-1), termCriteria)\n",
    "            img_points_2D.append(cornersRefined)\n",
    "\n",
    "            if showPics: \n",
    "                cv.drawChessboardCorners(imgBGR, chessboard_dim, cornersRefined, cornersFound)\n",
    "                cv.imshow('Chessboard', imgBGR)\n",
    "                cv.waitKey(500)\n",
    "                \n",
    "        else:\n",
    "            # Get the corners manually\n",
    "            outer_corners = manual_corners(imgBGR)\n",
    "            # outer_corners = np.array([[234, 100], [883, 100], [234, 660], [883, 660]])\n",
    "            \n",
    "            interpolated_points = interpolate_chessboard_points(outer_corners, chessboard_dim, square_size)\n",
    "                \n",
    "    \n",
    "    if showPics:           \n",
    "        cv.destroyAllWindows()\n",
    "    5\n",
    "    # Calibrate \n",
    "    repError, camMatrix, distCoeff, rvecs, tvecs = cv.calibrateCamera(obj_points_3D, img_points_2D, imgGray.shape[::-1],None,None)\n",
    "    print('Camera Matrix:\\n',camMatrix)\n",
    "    print(\"Reproj Error (pixels): {:.4f}\".format(repError))\n",
    "    \n",
    "    # Save Calibration Parameters (later video)\n",
    "    curFolder = os.path.dirname(os.path.abspath('1'))\n",
    "    paramPath = os.path.join(curFolder,'calibration.npz')\n",
    "    np.savez(paramPath, repError=repError, camMatrix=camMatrix, distCoeff=distCoeff, rvecs=rvecs, tvecs=tvecs)\n",
    "    \n",
    "    \n",
    "    \n",
    "    \n",
    "    \n",
    "\n",
    "    \n",
    "    "
   ]
  },
  {
   "cell_type": "code",
   "execution_count": 18,
   "metadata": {},
   "outputs": [
    {
     "name": "stdout",
     "output_type": "stream",
     "text": [
      "['images\\\\1.jpg', 'images\\\\10.jpg', 'images\\\\11.jpg', 'images\\\\12.jpg', 'images\\\\13.jpg', 'images\\\\14.jpg', 'images\\\\15.jpg', 'images\\\\16.jpg', 'images\\\\17.jpg', 'images\\\\18.jpg', 'images\\\\19.jpg', 'images\\\\2.jpg', 'images\\\\20.jpg', 'images\\\\21.jpg', 'images\\\\22.jpg', 'images\\\\23.jpg', 'images\\\\24.jpg', 'images\\\\25.jpg', 'images\\\\26.jpg', 'images\\\\27.jpg', 'images\\\\28.jpg', 'images\\\\29.jpg', 'images\\\\3.jpg', 'images\\\\4.jpg', 'images\\\\5.jpg', 'images\\\\6.jpg', 'images\\\\7.jpg', 'images\\\\8.jpg', 'images\\\\9.jpg']\n",
      "\n",
      "Current path:\n",
      "images\\1.jpg\n",
      "Found with the CV function\n",
      "Current path:\n",
      "images\\10.jpg\n",
      "Found with the CV function\n",
      "Current path:\n",
      "images\\11.jpg\n",
      "Found with the CV function\n",
      "Current path:\n",
      "images\\12.jpg\n",
      "Found with the CV function\n",
      "Current path:\n",
      "images\\13.jpg\n",
      "Found with the CV function\n",
      "Current path:\n",
      "images\\14.jpg\n",
      "Found with the CV function\n",
      "Current path:\n",
      "images\\15.jpg\n",
      "Found with the CV function\n",
      "Current path:\n",
      "images\\16.jpg\n",
      "Found with the CV function\n",
      "Current path:\n",
      "images\\17.jpg\n",
      "Found with the CV function\n",
      "Current path:\n",
      "images\\18.jpg\n",
      "Found with the CV function\n",
      "Current path:\n",
      "images\\19.jpg\n",
      "Found with the CV function\n",
      "Current path:\n",
      "images\\2.jpg\n",
      "Found with the CV function\n",
      "Current path:\n",
      "images\\20.jpg\n",
      "Found with the CV function\n",
      "Current path:\n",
      "images\\21.jpg\n",
      "Found with the CV function\n",
      "Current path:\n",
      "images\\22.jpg\n",
      "Found with the CV function\n",
      "Current path:\n",
      "images\\23.jpg\n",
      "Found with the CV function\n",
      "Current path:\n",
      "images\\24.jpg\n",
      "Found with the CV function\n",
      "Current path:\n",
      "images\\25.jpg\n",
      "Found with the CV function\n",
      "Current path:\n",
      "images\\26.jpg\n",
      "Found with the CV function\n",
      "Current path:\n",
      "images\\27.jpg\n",
      "Found with the CV function\n",
      "Current path:\n",
      "images\\28.jpg\n",
      "Found with the CV function\n",
      "Current path:\n",
      "images\\29.jpg\n",
      "Found with the CV function\n",
      "Current path:\n",
      "images\\3.jpg\n",
      "Found with the CV function\n",
      "Current path:\n",
      "images\\4.jpg\n",
      "Found with the CV function\n",
      "Current path:\n",
      "images\\5.jpg\n",
      "Found with the CV function\n",
      "Current path:\n",
      "images\\6.jpg\n",
      "Found with the CV function\n",
      "Current path:\n",
      "images\\7.jpg\n",
      "Found with the CV function\n",
      "Current path:\n",
      "images\\8.jpg\n",
      "Found with the CV function\n",
      "Current path:\n",
      "images\\9.jpg\n",
      "Found with the CV function\n",
      "Camera Matrix:\n",
      " [[768.89672994   0.         245.69358707]\n",
      " [  0.         767.92532569 474.6642067 ]\n",
      " [  0.           0.           1.        ]]\n",
      "Reproj Error (pixels): 0.2722\n"
     ]
    }
   ],
   "source": [
    "calibrate()"
   ]
  },
  {
   "cell_type": "code",
   "execution_count": 62,
   "metadata": {},
   "outputs": [],
   "source": []
  },
  {
   "cell_type": "code",
   "execution_count": null,
   "metadata": {},
   "outputs": [],
   "source": []
  },
  {
   "cell_type": "code",
   "execution_count": null,
   "metadata": {},
   "outputs": [],
   "source": []
  },
  {
   "cell_type": "code",
   "execution_count": 56,
   "metadata": {},
   "outputs": [],
   "source": [
    "def interpolate_corners(corners, pattern_size):\n",
    "    # Ensure corners are (top-left, top-right, bottom-right, bottom-left)\n",
    "    # ... Sorting logic here ...\n",
    "\n",
    "    # Calculate step sizes\n",
    "    step_x = (corners[1][0] - corners[0][0]) / (pattern_size[0] - 1)\n",
    "    step_y = (corners[3][1] - corners[0][1]) / (pattern_size[1] - 1)\n",
    "\n",
    "    # Generate points\n",
    "    inner_points = []\n",
    "    for i in range(pattern_size[1]):\n",
    "        for j in range(pattern_size[0]):\n",
    "            x = corners[0][0] + j * step_x\n",
    "            y = corners[0][1] + i * step_y\n",
    "            inner_points.append((int(x), int(y)))\n",
    "\n",
    "    return inner_points"
   ]
  },
  {
   "cell_type": "code",
   "execution_count": 61,
   "metadata": {},
   "outputs": [],
   "source": [
    "pattern_size = (7, 7)  # For a 8x8 chessboard\n",
    "interpolated_points = np.array(interpolate_corners(points, pattern_size))"
   ]
  },
  {
   "cell_type": "code",
   "execution_count": 62,
   "metadata": {},
   "outputs": [
    {
     "data": {
      "text/plain": [
       "(49, 2)"
      ]
     },
     "execution_count": 62,
     "metadata": {},
     "output_type": "execute_result"
    }
   ],
   "source": [
    "interpolated_points.shape"
   ]
  },
  {
   "cell_type": "code",
   "execution_count": 67,
   "metadata": {},
   "outputs": [
    {
     "data": {
      "text/plain": [
       "<matplotlib.image.AxesImage at 0x274dc9b15d0>"
      ]
     },
     "execution_count": 67,
     "metadata": {},
     "output_type": "execute_result"
    },
    {
     "data": {
      "image/png": "[encoded data removed]",
      "text/plain": [
       "<Figure size 640x480 with 1 Axes>"
      ]
     },
     "metadata": {},
     "output_type": "display_data"
    }
   ],
   "source": [
    "plt.imshow(interpolated_points[:,0].reshape(7,7), cmap='Greys')"
   ]
  },
  {
   "cell_type": "code",
   "execution_count": null,
   "metadata": {},
   "outputs": [],
   "source": []
  },
  {
   "cell_type": "code",
   "execution_count": null,
   "metadata": {},
   "outputs": [],
   "source": []
  },
  {
   "cell_type": "code",
   "execution_count": 29,
   "metadata": {},
   "outputs": [],
   "source": [
    "# Calculate step sizes (assuming 7x7 grid of inner corners for an 8x8 chessboard)\n",
    "step_size_x = (points[1][0] - points[0][0]) / 6\n",
    "step_size_y = (points[3][1] - points[0][1]) / 6\n",
    "\n",
    "# Generate inner points\n",
    "inner_points = []\n",
    "for row in range(7):\n",
    "    for col in range(7):\n",
    "        x = points[0][0] + col * step_size_x\n",
    "        y = points[0][1] + row * step_size_y\n",
    "        inner_points.append((int(x), int(y)))\n",
    "\n",
    "inner_points = np.array(inner_points)\n"
   ]
  },
  {
   "cell_type": "code",
   "execution_count": 31,
   "metadata": {},
   "outputs": [
    {
     "data": {
      "text/plain": [
       "(49, 2)"
      ]
     },
     "execution_count": 31,
     "metadata": {},
     "output_type": "execute_result"
    }
   ],
   "source": [
    "inner_points.shape"
   ]
  },
  {
   "cell_type": "code",
   "execution_count": 32,
   "metadata": {},
   "outputs": [],
   "source": [
    "# Assuming each cell of the chessboard is of a known size, e.g., 20mm\n",
    "cell_size = 20  # replace with the actual size of your chessboard cell\n",
    "\n",
    "# Prepare the 3D points (0,0,0), (20,0,0), (40,0,0), ..., etc.\n",
    "objp = np.zeros((7*7, 3), np.float32)\n",
    "objp[:,:2] = np.mgrid[0:7, 0:7].T.reshape(-1, 2) * cell_size\n",
    "\n",
    "# 'objp' is now the array of your 3D points in the real world\n"
   ]
  },
  {
   "cell_type": "code",
   "execution_count": 53,
   "metadata": {},
   "outputs": [
    {
     "data": {
      "text/plain": [
       "<matplotlib.image.AxesImage at 0x274d626ef50>"
      ]
     },
     "execution_count": 53,
     "metadata": {},
     "output_type": "execute_result"
    },
    {
     "data": {
      "image/png": "[encoded data removed]",
      "text/plain": [
       "<Figure size 640x480 with 1 Axes>"
      ]
     },
     "metadata": {},
     "output_type": "display_data"
    }
   ],
   "source": [
    "plt.imshow(objp[:,:1].reshape(7,7), cmap='Greys')"
   ]
  },
  {
   "cell_type": "code",
   "execution_count": null,
   "metadata": {},
   "outputs": [],
   "source": []
  },
  {
   "cell_type": "markdown",
   "metadata": {},
   "source": [
    "### Example with automatic edge detection"
   ]
  },
  {
   "cell_type": "code",
   "execution_count": 24,
   "metadata": {},
   "outputs": [],
   "source": [
    "import cv2\n",
    "import numpy as np\n",
    "\n",
    "img = cv2.imread('chessboard.png')\n",
    "\n",
    "# Convert to grayscale\n",
    "gray = cv2.cvtColor(img, cv2.COLOR_BGR2GRAY)\n",
    "# Apply bilateral filter\n",
    "bi = cv2.bilateralFilter(gray, 5, 75, 75)\n",
    "# Display the result\n",
    "\n",
    "dst = cv2.cornerHarris(bi, 2, 3, 0.04)\n",
    "\n",
    "#--- create a black image to see where those corners occur ---\n",
    "mask = np.zeros_like(gray)\n",
    "\n",
    "#--- applying a threshold and turning those pixels above the threshold to white ---           \n",
    "mask[dst>0.01*dst.max()] = 255\n",
    "cv2.imshow('Mask', mask)\n",
    "\n",
    "cv2.waitKey(0)\n",
    "cv2.destroyAllWindows()"
   ]
  },
  {
   "cell_type": "code",
   "execution_count": 16,
   "metadata": {},
   "outputs": [],
   "source": [
    "img[dst > 0.01 * dst.max()] = [0, 0, 255]   #--- [0, 0, 255] --> Red ---\n",
    "cv2.imshow('Dst', img)\n",
    "cv2.waitKey(0)\n",
    "cv2.destroyAllWindows()"
   ]
  },
  {
   "cell_type": "code",
   "execution_count": 12,
   "metadata": {},
   "outputs": [
    {
     "data": {
      "text/plain": [
       "<matplotlib.image.AxesImage at 0x274dac6b9d0>"
      ]
     },
     "execution_count": 12,
     "metadata": {},
     "output_type": "execute_result"
    },
    {
     "data": {
      "image/png": "[encoded data removed]",
      "text/plain": [
       "<Figure size 640x480 with 1 Axes>"
      ]
     },
     "metadata": {},
     "output_type": "display_data"
    }
   ],
   "source": [
    "plt.imshow(dst, cmap='Purples')"
   ]
  },
  {
   "cell_type": "code",
   "execution_count": 14,
   "metadata": {},
   "outputs": [
    {
     "data": {
      "text/plain": [
       "<matplotlib.image.AxesImage at 0x274daa8fd90>"
      ]
     },
     "execution_count": 14,
     "metadata": {},
     "output_type": "execute_result"
    },
    {
     "data": {
      "image/png": "[encoded data removed]",
      "text/plain": [
       "<Figure size 640x480 with 1 Axes>"
      ]
     },
     "metadata": {},
     "output_type": "display_data"
    }
   ],
   "source": [
    "plt.imshow(mask, cmap='Greys')"
   ]
  },
  {
   "cell_type": "code",
   "execution_count": null,
   "metadata": {},
   "outputs": [],
   "source": []
  },
  {
   "cell_type": "code",
   "execution_count": null,
   "metadata": {},
   "outputs": [],
   "source": []
  }
 ],
 "metadata": {
  "kernelspec": {
   "display_name": "Python 3",
   "language": "python",
   "name": "python3"
  },
  "language_info": {
   "codemirror_mode": {
    "name": "ipython",
    "version": 3
   },
   "file_extension": ".py",
   "mimetype": "text/x-python",
   "name": "python",
   "nbconvert_exporter": "python",
   "pygments_lexer": "ipython3",
   "version": "3.11.0"
  }
 },
 "nbformat": 4,
 "nbformat_minor": 2
}
