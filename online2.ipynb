{
 "cells": [
  {
   "cell_type": "code",
   "execution_count": 12,
   "metadata": {},
   "outputs": [],
   "source": [
    "import cv2\n",
    "import numpy as np\n",
    "import matplotlib.pyplot as plt\n",
    "import os\n",
    "from copy import deepcopy\n",
    "import random\n",
    "import tkinter as tk\n",
    "import glob\n",
    "from enum import Enum\n",
    "\n"
   ]
  },
  {
   "cell_type": "code",
   "execution_count": 13,
   "metadata": {},
   "outputs": [],
   "source": [
    "VIDEO = False\n",
    "square_size = 25\n",
    "chessboard_shape = (9,6)\n",
    "train_images_path = 'train_images2'\n",
    "test_images_path = 'test_images'\n",
    "cube_images_path = 'images_cube'\n",
    "video_path = 'video/chessboard.mp4'\n",
    "cube_video_path = 'video_cube/cube_video.mp4'\n",
    "parameters_path = 'params'"
   ]
  },
  {
   "cell_type": "code",
   "execution_count": 14,
   "metadata": {},
   "outputs": [],
   "source": [
    "not_found = []"
   ]
  },
  {
   "cell_type": "code",
   "execution_count": 15,
   "metadata": {},
   "outputs": [],
   "source": [
    "# Load previously saved data\n",
    "with np.load('calibrations/calibration_run_1_results.npz') as X:\n",
    "    mtx, dist, _, _ = [X[i] for i in ('mtx','dist','rvecs','tvecs')]"
   ]
  },
  {
   "cell_type": "code",
   "execution_count": 18,
   "metadata": {},
   "outputs": [],
   "source": [
    "def draw_axes(img, corners, imgpts):\n",
    "    corner = tuple(int(i) for i in corners[0].ravel())\n",
    "    img = cv2.arrowedLine(img, corner, tuple(int(i) for i in imgpts[0].ravel()), (255, 0, 0), 5)\n",
    "    img = cv2.arrowedLine(img, corner, tuple(int(i) for i in imgpts[1].ravel()), (0, 255, 0), 5)\n",
    "    img = cv2.arrowedLine(img, corner, tuple(int(i) for i in imgpts[2].ravel()), (0, 0, 255), 5)\n",
    "    return img\n"
   ]
  },
  {
   "cell_type": "code",
   "execution_count": 19,
   "metadata": {},
   "outputs": [],
   "source": [
    "def draw_cube(img, corners, imgpts):\n",
    "    imgpts = np.int32(imgpts).reshape(-1,2)\n",
    "    # draw ground floor in green\n",
    "    img = cv2.drawContours(img, [imgpts[:4]],-1,(130, 249, 255),3)\n",
    "    # draw pillars in blue color\n",
    "    for i,j in zip(range(4),range(4,8)):\n",
    "        img = cv2.line(img, tuple(imgpts[i]), tuple(imgpts[j]),(130, 249, 255),3)\n",
    "    # draw top layer in red color\n",
    "    img = cv2.drawContours(img, [imgpts[4:]],-1,(130, 249, 255),3)\n",
    "    return img"
   ]
  },
  {
   "cell_type": "code",
   "execution_count": 20,
   "metadata": {},
   "outputs": [],
   "source": [
    "criteria = (cv2.TERM_CRITERIA_EPS + cv2.TERM_CRITERIA_MAX_ITER, 30, 0.001)\n",
    "objp = np.zeros((6*9,3), np.float32)\n",
    "objp[:,:2] = np.mgrid[0:9,0:6].T.reshape(-1,2)\n",
    "axis = np.float32([[3,0,0], [0,3,0], [0,0,-3]]).reshape(-1,3)\n",
    "\n",
    "cube = np.float32([[0,0,0], [0,2,0], [2,2,0], [2,0,0],\n",
    "                   [0,0,-2],[0,2,-2],[2,2,-2],[2,0,-2] ])"
   ]
  },
  {
   "cell_type": "code",
   "execution_count": 21,
   "metadata": {},
   "outputs": [
    {
     "name": "stdout",
     "output_type": "stream",
     "text": [
      "test_images\\1.jpg\n",
      "test_images\\10.jpg\n",
      "test_images\\11.jpg\n",
      "test_images\\12.jpg\n",
      "test_images\\13.jpg\n",
      "test_images\\14.jpg\n",
      "test_images\\15.jpg\n",
      "test_images\\2.jpg\n",
      "test_images\\3.jpg\n",
      "test_images\\4.jpg\n",
      "test_images\\5.jpg\n",
      "test_images\\6.jpg\n",
      "test_images\\7.jpg\n",
      "test_images\\8.jpg\n",
      "test_images\\9.jpg\n"
     ]
    }
   ],
   "source": [
    "if VIDEO == False:\n",
    "    test_images_path_list = glob.glob(os.path.join(test_images_path,'*.jpg'))\n",
    "    \n",
    "    for image_path in test_images_path_list:\n",
    "        print(image_path)\n",
    "        # Read cuttenr image\n",
    "        current_image = cv2.imread(image_path)\n",
    "        # Reduce all the axes /2 \n",
    "        current_image = cv2.resize(current_image, (0,0), fx=0.5, fy=0.5)\n",
    "        # Turn the image into greyscale and try to detect the corners automatically\n",
    "        gray = cv2.cvtColor(current_image,cv2.COLOR_BGR2GRAY)\n",
    "        ret, corners = cv2.findChessboardCorners(gray, (9,6),None)\n",
    "        \n",
    "        if ret == True:\n",
    "            corners2 = cv2.cornerSubPix(gray,corners,(11,11),(-1,-1),criteria)\n",
    "            # Find the rotation and translation vectors.\n",
    "            ret,rvecs, tvecs = cv2.solvePnP(objp, corners2, mtx, dist)\n",
    "            # project 3D points to image plane\n",
    "            imgpts_axis, jac_axis = cv2.projectPoints(axis, rvecs, tvecs, mtx, dist)\n",
    "            imgpts_cube, jac_cube = cv2.projectPoints(cube, rvecs, tvecs, mtx, dist)\n",
    "            # Draw cube and axes\n",
    "            img = draw_cube(current_image,corners2,imgpts_cube)\n",
    "            img = draw_axes(current_image,corners2,imgpts_axis)\n",
    "\n",
    "            cv2.imshow('img',img)\n",
    "            cv2.waitKey(500)\n",
    "            \n",
    "            save_image_path = os.path.join(cube_images_path, os.path.basename(image_path))\n",
    "            cv2.imwrite(save_image_path, img)\n",
    "            \n",
    "        else:\n",
    "            not_found.append(str(image_path).split('\\\\')[1])\n",
    "                     \n",
    "    cv2.destroyAllWindows()\n",
    "    \n",
    "else:\n",
    "    cap = cv2.VideoCapture(video_path)\n",
    "    if not cap.isOpened():\n",
    "        print(\"Error: Could not open video.\")\n",
    "        exit()\n",
    "\n",
    "    # Get video properties for the output video\n",
    "    frame_width = int(cap.get(cv2.CAP_PROP_FRAME_WIDTH)*1)\n",
    "    frame_height = int(cap.get(cv2.CAP_PROP_FRAME_HEIGHT)*1)\n",
    "    fps = cap.get(cv2.CAP_PROP_FPS)\n",
    "\n",
    "    # Define the codec and create VideoWriter object\n",
    "    fourcc = cv2.VideoWriter_fourcc(*'mp4v')  # Codec used here is 'mp4v' for MP4\n",
    "    out = cv2.VideoWriter(cube_video_path, fourcc, fps, (frame_width, frame_height))\n",
    "\n",
    "\n",
    "    while True:\n",
    "        ret, current_frame = cap.read()\n",
    "        if not ret:\n",
    "            break  # End of video\n",
    "\n",
    "        # Resize for faster processing\n",
    "        current_frame = cv2.resize(current_frame, (0,0), fx=1, fy=1)\n",
    "        # Convert the picture to grayscale\n",
    "        gray = cv2.cvtColor(current_frame, cv2.COLOR_BGR2GRAY)\n",
    "        # Detect chessboard corners\n",
    "        found, coords = cv2.findChessboardCorners(gray, chessboard_shape, flags=cv2.CALIB_CB_ADAPTIVE_THRESH + cv2.CALIB_CB_NORMALIZE_IMAGE + cv2.CALIB_CB_FAST_CHECK + cv2.CALIB_CB_FILTER_QUADS)\n",
    "        \n",
    "        if found:\n",
    "            criteria = (cv2.TERM_CRITERIA_EPS + cv2.TERM_CRITERIA_MAX_ITER, 30, 0.1)\n",
    "            corners2 = cv2.cornerSubPix(gray, coords, (11, 11), (-1, -1), criteria)\n",
    "            ret,rvecs, tvecs = cv2.solvePnP(objp, corners2, mtx, dist)\n",
    "            \n",
    "            imgpts_axis, jac_axis = cv2.projectPoints(axis, rvecs, tvecs, mtx, dist)\n",
    "            imgpts_cube, jac_cube = cv2.projectPoints(cube, rvecs, tvecs, mtx, dist)\n",
    "            # Draw cube and axes\n",
    "            frame = draw_cube(current_frame,corners2,imgpts_cube)\n",
    "            frame = draw_axes(current_frame,corners2,imgpts_axis)\n",
    "            \n",
    "            # Write the frame into the file 'output_video.mp4'\n",
    "            out.write(current_frame)\n",
    "\n",
    "            cv2.imshow('img', current_frame)\n",
    "            if cv2.waitKey(1) == 27:  # Exit if ESC is pressed\n",
    "                break\n",
    "     \n",
    "    cap.release()\n",
    "    out.release()       \n",
    "    cv2.destroyAllWindows()\n",
    "            \n"
   ]
  },
  {
   "cell_type": "code",
   "execution_count": 22,
   "metadata": {},
   "outputs": [
    {
     "data": {
      "text/plain": [
       "['13.jpg', '14.jpg']"
      ]
     },
     "execution_count": 22,
     "metadata": {},
     "output_type": "execute_result"
    }
   ],
   "source": [
    "not_found"
   ]
  },
  {
   "cell_type": "code",
   "execution_count": 32,
   "metadata": {},
   "outputs": [],
   "source": [
    "if not_found:\n",
    "    # Join the filenames with line breaks\n",
    "    formatted_filenames = \" ,\".join(not_found)\n",
    "\n",
    "    message = f\"Corners could not be found automatically in images:\\n{formatted_filenames}\"\n",
    "\n",
    "    # Create the main window\n",
    "    root = tk.Tk()\n",
    "    root.title(\"Warning\")\n",
    "\n",
    "    # Create a label for the message\n",
    "    label = tk.Label(root, text=message, padx=20, pady=20)\n",
    "    label.pack()\n",
    "\n",
    "    # Start the GUI event loop\n",
    "    root.mainloop()\n"
   ]
  }
 ],
 "metadata": {
  "kernelspec": {
   "display_name": "Python 3",
   "language": "python",
   "name": "python3"
  },
  "language_info": {
   "codemirror_mode": {
    "name": "ipython",
    "version": 3
   },
   "file_extension": ".py",
   "mimetype": "text/x-python",
   "name": "python",
   "nbconvert_exporter": "python",
   "pygments_lexer": "ipython3",
   "version": "3.11.0"
  }
 },
 "nbformat": 4,
 "nbformat_minor": 2
}
